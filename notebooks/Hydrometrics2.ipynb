{
 "cells": [
  {
   "cell_type": "markdown",
   "metadata": {},
   "source": [
    "# Hydrometrics2\n",
    "\n",
    "In this notebook, we show how to compute several **hydrometics parameters** based on stream network produced from  model. The analysis relies on the `flow` files (*i.e.* stream) found in Badlands outputs. If you are interested in looking at morphometrics and stratigraphic analysis there are other notebooks specially designed for that in the **Badlands companion** repository.\n",
    "\n",
    "**Hydrometrics** here refers only to quantitative description and analysis of water surface and we don't consider groundwater analysis. We will show how you can extract a particular catchment from a given model and compute for this particular catchment a series of paramters such as:\n",
    "\n",
    "- **river profile** evolution based on main stream elevation and distance to outlet,\n",
    "- **peclet number** distribution which evaluates the dominant processes shaping the landscape,\n",
    "- $\\chi$ **parameter** that characterizes rivers system evolution based on terrain steepness and the arrangement of tributaries,\n",
    "- **discharge** profiles "
   ]
  },
  {
   "cell_type": "code",
   "execution_count": null,
   "metadata": {
    "collapsed": false
   },
   "outputs": [],
   "source": [
    "%matplotlib inline\n",
    "\n",
    "import numpy as np\n",
    "from matplotlib import cm\n",
    "\n",
    "# Import badlands grid generation toolbox\n",
    "import hydroGrid as hydr\n",
    "\n",
    "# display plots in SVG format\n",
    "%config InlineBackend.figure_format = 'svg' "
   ]
  },
  {
   "cell_type": "markdown",
   "metadata": {
    "collapsed": true
   },
   "source": [
    "# 1. Load catchments parameters\n",
    "\n",
    "We first have to define the path to the Badlands outputs we want to analyse. In addition Badlands is creating several files for each processors that have been used, you need to specify this number in the `ncpus` variable. \n",
    "\n",
    "We then need to provide a point coordinates (X,Y) contained in the catchment of interest. This point doesn't need to be the outlet of the catchment. \n",
    "\n",
    "For more information regarding the function uncomment the following line."
   ]
  },
  {
   "cell_type": "code",
   "execution_count": null,
   "metadata": {
    "collapsed": false
   },
   "outputs": [],
   "source": [
    "#help(hydr.hydroGrid.__init__)"
   ]
  },
  {
   "cell_type": "code",
   "execution_count": null,
   "metadata": {
    "collapsed": false
   },
   "outputs": [],
   "source": [
    "hydro = hydr.hydroGrid(folder='/workspace/volume/transtension/outputs/output_0.50_0.50_kd1e-5/h5/', ncpus=1, \\\n",
    "                          ptXY = [53000,30000])"
   ]
  },
  {
   "cell_type": "markdown",
   "metadata": {},
   "source": [
    "# 2. Extract particular catchment dataset\n",
    "\n",
    "We now extract the data from a particular time step (`timestep`) and for the catchment of interest, which contained the point specified in previous function.\n",
    "\n",
    "**Note**\n",
    "\n",
    "If you are interested in making some hydrometric comparisons between different time steps you can create multiple instances of the hydrometrics python class each of them associated to a given time step."
   ]
  },
  {
   "cell_type": "code",
   "execution_count": null,
   "metadata": {
    "collapsed": true
   },
   "outputs": [],
   "source": [
    "#help(hydro.getCatchment)"
   ]
  },
  {
   "cell_type": "code",
   "execution_count": null,
   "metadata": {
    "collapsed": false
   },
   "outputs": [],
   "source": [
    "hydro.getCatchment(timestep=40)"
   ]
  },
  {
   "cell_type": "markdown",
   "metadata": {},
   "source": [
    "We can visualise the stream network using the `viewNetwork` function. The following paramters can be displayed:\n",
    "- $\\chi$ paramater 'chi',\n",
    "- elevation 'Z',\n",
    "- discharge 'FA' (logarithmic values)"
   ]
  },
  {
   "cell_type": "code",
   "execution_count": null,
   "metadata": {
    "collapsed": true
   },
   "outputs": [],
   "source": [
    "#help(hydro.viewNetwork)"
   ]
  },
  {
   "cell_type": "code",
   "execution_count": null,
   "metadata": {
    "collapsed": false
   },
   "outputs": [],
   "source": [
    "#hydro.viewNetwork(markerPlot = True, linePlot = False, lineWidth = 1, markerSize = 3, \n",
    "#                 val = 'FA', width = 1000, height = 600, colorMap = cm.Blues, \n",
    "#                 colorScale = 'Blues', reverse = True, \n",
    "#                 title = '<br>Stream network graph')"
   ]
  },
  {
   "cell_type": "markdown",
   "metadata": {},
   "source": [
    "# 3. Extract main stream for the considered catchment\n",
    "\n",
    "We now extract the main stream for the considered catchment based on flow \n",
    "discharge values."
   ]
  },
  {
   "cell_type": "code",
   "execution_count": null,
   "metadata": {
    "collapsed": true
   },
   "outputs": [],
   "source": [
    "#help(hydro.extractMainstream)"
   ]
  },
  {
   "cell_type": "code",
   "execution_count": null,
   "metadata": {
    "collapsed": false
   },
   "outputs": [],
   "source": [
    "hydro.extractMainstream()"
   ]
  },
  {
   "cell_type": "markdown",
   "metadata": {},
   "source": [
    "As for the global stream network, you can use the `viewStream` function to visualise the main stream dataset."
   ]
  },
  {
   "cell_type": "code",
   "execution_count": null,
   "metadata": {
    "collapsed": true
   },
   "outputs": [],
   "source": [
    "#help(hydro.viewStream)"
   ]
  },
  {
   "cell_type": "code",
   "execution_count": null,
   "metadata": {
    "collapsed": false
   },
   "outputs": [],
   "source": [
    "#hydro.viewStream(linePlot = False, lineWidth = 1, markerSize = 7, \n",
    "#                 val = 'Z', width = 1000, height = 600, colorMap = cm.jet, \n",
    "#                 colorScale = 'Jet', reverse = False, \n",
    "#                 title = '<br>Stream network graph')"
   ]
  },
  {
   "cell_type": "markdown",
   "metadata": {},
   "source": [
    "# 4. Compute main stream hydrometrics\n",
    "\n",
    "Here, we compute the stream parameters using the distance from outlet and the Badlands simulation coefficients for the **stream power law** and the **hillslope linear diffusion**.\n",
    "\n",
    "The formulation for the Peclet number is: \n",
    "\n",
    "$$Pe =\\frac {\\kappa_{c}l^{2(m+1)-n}}{\\kappa_{d}z^{1-n}}$$\n",
    "\n",
    "where $\\kappa_{c}$ is the erodibility coefficient, $\\kappa_{d}$ the hillslope diffusion coefficient and *m*, *n* the exponents from the stream power law equation. Their values are defined in your model input file.\n",
    "\n",
    "The formulation for the $\\chi$ parameter follows:\n",
    "\n",
    "$$\\chi = \\int_{x_b}^x \\left( \\frac{A_o}{A(x')} \\right)^{m/n} dx' $$\n",
    "\n",
    "where $A_o$ is an arbitrary scaling area, and the integration is performed upstream from base level to location $x$.\n",
    "         \n",
    "In addition the function `computeParams` requires an additional parameter `num` which is the number of samples to generate along the main stream profile for linear interpolation."
   ]
  },
  {
   "cell_type": "code",
   "execution_count": null,
   "metadata": {
    "collapsed": true
   },
   "outputs": [],
   "source": [
    "#help(hydro.computeParams)"
   ]
  },
  {
   "cell_type": "code",
   "execution_count": null,
   "metadata": {
    "collapsed": true
   },
   "outputs": [],
   "source": [
    "hydro.computeParams(kd=0.01, kc=5.e-6, m=0.5, n=1., num=500)"
   ]
  },
  {
   "cell_type": "markdown",
   "metadata": {},
   "source": [
    "The following combination of parameters can be visualised with the `viewPlot` function:\n",
    "- 'dist': distance from catchment outlet\n",
    "- 'FA': flow discharge (logorithmic)\n",
    "- 'Pe': Peclet number\n",
    "- 'chi': $\\chi$ parameter\n",
    "- 'Z': elevation from outlet."
   ]
  },
  {
   "cell_type": "code",
   "execution_count": null,
   "metadata": {
    "collapsed": true
   },
   "outputs": [],
   "source": [
    "#help(hydro.viewPlot)"
   ]
  },
  {
   "cell_type": "code",
   "execution_count": null,
   "metadata": {
    "collapsed": false
   },
   "outputs": [],
   "source": [
    "hydro.viewPlot(lineWidth = 3, markerSize = 5, xval = 'dist', yval = 'chi',\n",
    "               width = 600, height = 500, colorLine = 'black', colorMarker = 'black',\n",
    "               opacity = 0.2, title = 'Chi vs distance to outlet')"
   ]
  },
  {
   "cell_type": "markdown",
   "metadata": {
    "collapsed": true
   },
   "source": [
    "# 5. Extract all stream positions for the catchment\n",
    "\n",
    "Here we define 2 numpy arrays __donorPts__ and __rcvPts__ which are the X,Y coordinates of the catchment points. \n",
    "\n",
    "They are __ordered__ so each tuple of points is connected to form the drainage. \n",
    "Each of these segments represents a small stream. "
   ]
  },
  {
   "cell_type": "code",
   "execution_count": null,
   "metadata": {
    "collapsed": false
   },
   "outputs": [],
   "source": [
    "donorPts = np.zeros((len(hydro.donX),2))\n",
    "donorPts[:,0] = hydro.donX\n",
    "donorPts[:,1] = hydro.donY\n",
    "\n",
    "rcvPts = np.zeros((len(hydro.donX),2))\n",
    "rcvPts[:,0] = hydro.rcvX\n",
    "rcvPts[:,1] = hydro.rcvY"
   ]
  },
  {
   "cell_type": "markdown",
   "metadata": {},
   "source": [
    "The $k^{th}$ stream coordinates are given by the segment (AB)$_k$ with A and B the upstream and downstream points respectively by:\n",
    "\n",
    "```python\n",
    "Ax = donorPts[k,0]\n",
    "Ay = donorPts[k,1]\n",
    "Bx = rcvPts[k,0]\n",
    "By = rcvPts[k,1]\n",
    "```"
   ]
  },
  {
   "cell_type": "markdown",
   "metadata": {},
   "source": [
    "# 6. Define tributary streams\n",
    "\n",
    "First we find unique elements in the donors and receivers list. These elements are the top (leaves) of the tributaries (in the network graph). \n",
    "\n",
    "__This function might take a while if you have a lot of small tributaries in your catchment !__"
   ]
  },
  {
   "cell_type": "code",
   "execution_count": null,
   "metadata": {
    "collapsed": false
   },
   "outputs": [],
   "source": [
    "#help(hydro.findTribTop)\n",
    "topIDs = hydro.findTribTop(donor = donorPts, rcv = rcvPts)\n",
    "\n",
    "#help(hydro.extractAllStreams)\n",
    "streamList = hydro.extractAllStreams(startIDs = topIDs)"
   ]
  },
  {
   "cell_type": "markdown",
   "metadata": {},
   "source": [
    "# 7. Compute all tributaries hydrometrics\n",
    "\n",
    "Here, we compute the stream parameters using the distance from outlet and the Badlands simulation coefficients for the **stream power law** and the **hillslope linear diffusion**.\n",
    "\n",
    "The formulation for the Peclet number is: \n",
    "\n",
    "$$Pe =\\frac {\\kappa_{c}l^{2(m+1)-n}}{\\kappa_{d}z^{1-n}}$$\n",
    "\n",
    "where $\\kappa_{c}$ is the erodibility coefficient, $\\kappa_{d}$ the hillslope diffusion coefficient and *m*, *n* the exponents from the stream power law equation. Their values are defined in your model input file.\n",
    "\n",
    "The formulation for the $\\chi$ parameter follows:\n",
    "\n",
    "$$\\chi = \\int_{x_b}^x \\left( \\frac{A_o}{A(x')} \\right)^{m/n} dx' $$\n",
    "\n",
    "where $A_o$ is an arbitrary scaling area, and the integration is performed upstream from base level to location $x$.\n",
    "         \n",
    "In addition the function `computeParams` requires an additional parameter `num` which is the number of samples to generate along the main stream profile for linear interpolation."
   ]
  },
  {
   "cell_type": "code",
   "execution_count": null,
   "metadata": {
    "collapsed": false
   },
   "outputs": [],
   "source": [
    "#help(hydro.computeTribParams)\n",
    "hydro.computeTribParams(tribList=streamList, kd=0.01, kc=5.e-6, m=0.5, n=1., num=100)"
   ]
  },
  {
   "cell_type": "markdown",
   "metadata": {},
   "source": [
    "The following combination of parameters can be visualised with the `viewPlot` function:\n",
    "- 'dist': distance from catchment outlet\n",
    "- 'FA': flow discharge (logorithmic)\n",
    "- 'Pe': Peclet number\n",
    "- 'chi': $\\chi$ parameter\n",
    "- 'Z': elevation from outlet.\n",
    "\n",
    "For defining your own colors you can use RGBA values (have a look [here](http://www.hexcolortool.com/) to easely pick a color)."
   ]
  },
  {
   "cell_type": "code",
   "execution_count": null,
   "metadata": {
    "collapsed": false
   },
   "outputs": [],
   "source": [
    "#help(hydro.viewTribPlot)\n",
    "hydro.viewTribPlot(tribWidth = 2, tribColor = 'rgba(207, 215, 222, 0.5)', mainWidth = 5, \n",
    "                   mainColor = 'rgba(233, 109, 196, 1)', xval = 'dist', yval = 'chi', \n",
    "                   tribList = streamList, distLimit = 50000,\n",
    "                   width = 800, height = 600, title = 'distance vs elevation')"
   ]
  },
  {
   "cell_type": "code",
   "execution_count": null,
   "metadata": {
    "collapsed": true
   },
   "outputs": [],
   "source": []
  }
 ],
 "metadata": {
  "kernelspec": {
   "display_name": "Python 2",
   "language": "python",
   "name": "python2"
  },
  "language_info": {
   "codemirror_mode": {
    "name": "ipython",
    "version": 2
   },
   "file_extension": ".py",
   "mimetype": "text/x-python",
   "name": "python",
   "nbconvert_exporter": "python",
   "pygments_lexer": "ipython2",
   "version": "2.7.6"
  }
 },
 "nbformat": 4,
 "nbformat_minor": 0
}
